{
  "nbformat": 4,
  "nbformat_minor": 0,
  "metadata": {
    "colab": {
      "name": "Movie recommendation.ipynb",
      "provenance": [],
      "mount_file_id": "1uI6x44X5FxeCQlxYSIW0zdqE1gWrSW-i",
      "authorship_tag": "ABX9TyPnn1iFn5q3KEarwZOrv4fQ",
      "include_colab_link": true
    },
    "kernelspec": {
      "name": "python3",
      "display_name": "Python 3"
    }
  },
  "cells": [
    {
      "cell_type": "markdown",
      "metadata": {
        "id": "view-in-github",
        "colab_type": "text"
      },
      "source": [
        "<a href=\"https://colab.research.google.com/github/madhu1096/Recommendation-System-using-ML/blob/master/Movie_recommendation.ipynb\" target=\"_parent\"><img src=\"https://colab.research.google.com/assets/colab-badge.svg\" alt=\"Open In Colab\"/></a>"
      ]
    },
    {
      "cell_type": "markdown",
      "metadata": {
        "id": "71oeRUh3k2UT",
        "colab_type": "text"
      },
      "source": [
        "# Movie recommendation system"
      ]
    },
    {
      "cell_type": "markdown",
      "metadata": {
        "id": "9Qft7Jpbk8O-",
        "colab_type": "text"
      },
      "source": [
        "## Importing libraries"
      ]
    },
    {
      "cell_type": "code",
      "metadata": {
        "id": "UaVTJW-8kU9U",
        "colab_type": "code",
        "colab": {}
      },
      "source": [
        "import pandas as pd\n",
        "import numpy as np"
      ],
      "execution_count": 1,
      "outputs": []
    },
    {
      "cell_type": "code",
      "metadata": {
        "id": "LWWG_FS8lBeX",
        "colab_type": "code",
        "colab": {}
      },
      "source": [
        "df1 = pd.read_csv(\"/content/drive/My Drive/Machine Learning A-Z (Codes and Datasets)/Part 5 - Association Rule Learning/Section 28 - Apriori/Python/movie/tmdb_5000_credits.csv\")\n",
        "df2 = pd.read_csv(\"/content/drive/My Drive/Machine Learning A-Z (Codes and Datasets)/Part 5 - Association Rule Learning/Section 28 - Apriori/Python/movie/tmdb_5000_movies.csv\")"
      ],
      "execution_count": 2,
      "outputs": []
    },
    {
      "cell_type": "code",
      "metadata": {
        "id": "tZPM29X9lsZ7",
        "colab_type": "code",
        "colab": {}
      },
      "source": [
        "df1.head(5)"
      ],
      "execution_count": null,
      "outputs": []
    },
    {
      "cell_type": "code",
      "metadata": {
        "id": "dByAbkOBl1rw",
        "colab_type": "code",
        "colab": {}
      },
      "source": [
        "df2.head(1)"
      ],
      "execution_count": null,
      "outputs": []
    },
    {
      "cell_type": "markdown",
      "metadata": {
        "id": "Ow0s_i-ULRlL",
        "colab_type": "text"
      },
      "source": [
        "## We need to extract these from the below 2 dataset's\n",
        "['title', 'cast', 'director', 'keywords', 'genres']"
      ]
    },
    {
      "cell_type": "code",
      "metadata": {
        "id": "DSVOdUn7lqLQ",
        "colab_type": "code",
        "colab": {}
      },
      "source": [
        "df1.columns = ['id','tittle','cast','crew']\n",
        "df2= df2.merge(df1,on='id')"
      ],
      "execution_count": 5,
      "outputs": []
    },
    {
      "cell_type": "code",
      "metadata": {
        "id": "gWDlcU0QmGS2",
        "colab_type": "code",
        "colab": {}
      },
      "source": [
        "df2.head(2)"
      ],
      "execution_count": null,
      "outputs": []
    },
    {
      "cell_type": "code",
      "metadata": {
        "id": "6CIQysJNo5jC",
        "colab_type": "code",
        "colab": {}
      },
      "source": [
        "from ast import literal_eval\n",
        "\n",
        "features = ['cast', 'crew', 'keywords', 'genres']\n",
        "for feature in features:\n",
        "    df2[feature] = df2[feature].apply(literal_eval)"
      ],
      "execution_count": 7,
      "outputs": []
    },
    {
      "cell_type": "code",
      "metadata": {
        "id": "N9NQCvibpUDp",
        "colab_type": "code",
        "colab": {}
      },
      "source": [
        "df2[feature].head(1)"
      ],
      "execution_count": null,
      "outputs": []
    },
    {
      "cell_type": "code",
      "metadata": {
        "id": "XdEevDqDp4RE",
        "colab_type": "code",
        "colab": {}
      },
      "source": [
        "def get_director(x):\n",
        "    for i in x:\n",
        "        if i['job'] == 'Director':\n",
        "            return i['name']\n",
        "    return np.nan\n",
        "# Returns the list top 3 elements or entire list; whichever is more.\n",
        "def get_list(x):\n",
        "    if isinstance(x, list):\n",
        "        names = [i['name'] for i in x]\n",
        "        #Check if more than 3 elements exist. If yes, return only first three. If no, return entire list.\n",
        "        if len(names) > 3:\n",
        "            names = names[:3]\n",
        "        return names\n",
        "\n",
        "    #Return empty list in case of missing/malformed data\n",
        "    return []\n",
        "# Define new director, cast, genres and keywords features that are in a suitable form.\n",
        "df2['director'] = df2['crew'].apply(get_director)"
      ],
      "execution_count": 9,
      "outputs": []
    },
    {
      "cell_type": "code",
      "metadata": {
        "id": "4Te-WzkMp9qe",
        "colab_type": "code",
        "colab": {}
      },
      "source": [
        "features = ['cast', 'keywords', 'genres']\n",
        "for feature in features:\n",
        "    df2[feature] = df2[feature].apply(get_list)"
      ],
      "execution_count": null,
      "outputs": []
    },
    {
      "cell_type": "code",
      "metadata": {
        "id": "BLB_dFD1Ezsy",
        "colab_type": "code",
        "colab": {}
      },
      "source": [
        "df2[['title', 'cast', 'director', 'keywords', 'genres']].head(5)"
      ],
      "execution_count": null,
      "outputs": []
    },
    {
      "cell_type": "code",
      "metadata": {
        "id": "fFQ1M4_VqLOI",
        "colab_type": "code",
        "colab": {}
      },
      "source": [
        "# Function to convert all strings to lower case and strip names of spaces\n",
        "def clean_data(x):\n",
        "    if isinstance(x, list):\n",
        "        return [str.lower(i.replace(\" \", \"\")) for i in x]\n",
        "    else:\n",
        "        #Check if director exists. If not, return empty string\n",
        "        if isinstance(x, str):\n",
        "            return str.lower(x.replace(\" \", \"\"))\n",
        "        else:\n",
        "            return ''\n",
        "        \n",
        "# Apply clean_data function to your features.\n",
        "features = ['cast', 'keywords', 'director', 'genres']\n",
        "\n",
        "for feature in features:\n",
        "    df2[feature] = df2[feature].apply(clean_data)\n"
      ],
      "execution_count": 12,
      "outputs": []
    },
    {
      "cell_type": "code",
      "metadata": {
        "id": "ZkRc-2ZcqyPH",
        "colab_type": "code",
        "colab": {}
      },
      "source": [
        "df2[['title', 'cast', 'director', 'keywords', 'genres']].head(3)"
      ],
      "execution_count": null,
      "outputs": []
    },
    {
      "cell_type": "code",
      "metadata": {
        "id": "5L7IsDvwqhSS",
        "colab_type": "code",
        "colab": {}
      },
      "source": [
        "def create_soup(x):\n",
        "    return ' '.join(x['keywords']) + ' ' + ' '.join(x['cast']) + ' ' + x['director'] + ' ' + ' '.join(x['genres'])\n",
        "df2['soup'] = df2.apply(create_soup, axis=1)"
      ],
      "execution_count": 14,
      "outputs": []
    },
    {
      "cell_type": "code",
      "metadata": {
        "id": "BxLxPM_VqkfG",
        "colab_type": "code",
        "colab": {
          "base_uri": "https://localhost:8080/",
          "height": 69
        },
        "outputId": "1b0cc614-c6d2-4535-d61e-fa9e2271a505"
      },
      "source": [
        "df2['soup'].head(2)"
      ],
      "execution_count": 15,
      "outputs": [
        {
          "output_type": "execute_result",
          "data": {
            "text/plain": [
              "0    cultureclash future spacewar samworthington zo...\n",
              "1    ocean drugabuse exoticisland johnnydepp orland...\n",
              "Name: soup, dtype: object"
            ]
          },
          "metadata": {
            "tags": []
          },
          "execution_count": 15
        }
      ]
    },
    {
      "cell_type": "markdown",
      "metadata": {
        "id": "kjSvULvKLizP",
        "colab_type": "text"
      },
      "source": [
        "## Applying Count Vectorizer"
      ]
    },
    {
      "cell_type": "code",
      "metadata": {
        "id": "igfa-6Tvq9eF",
        "colab_type": "code",
        "colab": {}
      },
      "source": [
        "# Import CountVectorizer and create the count matrix\n",
        "from sklearn.feature_extraction.text import CountVectorizer\n",
        "\n",
        "count = CountVectorizer(stop_words='english')\n",
        "count_matrix = count.fit_transform(df2['soup'])"
      ],
      "execution_count": 16,
      "outputs": []
    },
    {
      "cell_type": "markdown",
      "metadata": {
        "id": "sMv5xdSTLpKz",
        "colab_type": "text"
      },
      "source": [
        "## Creating Cosine Similarity between two Vectors"
      ]
    },
    {
      "cell_type": "code",
      "metadata": {
        "id": "1CvspT3FrHJx",
        "colab_type": "code",
        "colab": {}
      },
      "source": [
        "from sklearn.metrics.pairwise import cosine_similarity\n",
        "cosine_sim2 = cosine_similarity(count_matrix, count_matrix)"
      ],
      "execution_count": 17,
      "outputs": []
    },
    {
      "cell_type": "markdown",
      "metadata": {
        "id": "svgVGcpnLx07",
        "colab_type": "text"
      },
      "source": [
        "## Function to predict similar movies"
      ]
    },
    {
      "cell_type": "code",
      "metadata": {
        "id": "LBwB1hbdnCu6",
        "colab_type": "code",
        "colab": {}
      },
      "source": [
        "def get_recommendations(title, cosine_sim=cosine_sim2):\n",
        "    # Get the index of the movie that matches the title\n",
        "    print('Movie i have matched:'+title)\n",
        "    idx = indices[title]\n",
        "    print('Recommended Movies for you')\n",
        "    # Get the pairwsie similarity scores of all movies with that movie\n",
        "    sim_scores = list(enumerate(cosine_sim[idx]))\n",
        "    # Sort the movies based on the similarity scores\n",
        "    sim_scores = sorted(sim_scores, key=lambda x: x[1], reverse=True)\n",
        "    # Get the scores of the 10 most similar movies\n",
        "    sim_scores = sim_scores[1:5]\n",
        "    # Get the movie indices\n",
        "    movie_indices = [i[0] for i in sim_scores]\n",
        "    # Return the top 10 most similar movies\n",
        "    return df2['title'].iloc[movie_indices]"
      ],
      "execution_count": 18,
      "outputs": []
    },
    {
      "cell_type": "code",
      "metadata": {
        "id": "XE2CaS2RrMdY",
        "colab_type": "code",
        "colab": {}
      },
      "source": [
        "df2 = df2.reset_index()\n",
        "indices = pd.Series(df2.index, index=df2['title'])"
      ],
      "execution_count": null,
      "outputs": []
    },
    {
      "cell_type": "markdown",
      "metadata": {
        "id": "GK-3fvmRMNMI",
        "colab_type": "text"
      },
      "source": [
        "## Getting predictions"
      ]
    },
    {
      "cell_type": "code",
      "metadata": {
        "id": "3SWig91uKtCm",
        "colab_type": "code",
        "colab": {}
      },
      "source": [
        "get_recommendations('The Avengers', cosine_sim2)"
      ],
      "execution_count": null,
      "outputs": []
    },
    {
      "cell_type": "markdown",
      "metadata": {
        "id": "7cHIyTRDMR6G",
        "colab_type": "text"
      },
      "source": [
        "## Soup is what we created in preprocessing step , then we do counter vectorizer, then we apply cosine similarity function to calculate similarities which will be usefull to get recommendations"
      ]
    },
    {
      "cell_type": "code",
      "metadata": {
        "id": "bI2i9BbDLBkk",
        "colab_type": "code",
        "colab": {}
      },
      "source": [
        "df2.head(2)"
      ],
      "execution_count": null,
      "outputs": []
    }
  ]
}